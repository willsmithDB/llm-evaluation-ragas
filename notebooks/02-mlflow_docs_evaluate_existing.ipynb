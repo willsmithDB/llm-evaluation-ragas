{
 "cells": [
  {
   "cell_type": "markdown",
   "metadata": {
    "application/vnd.databricks.v1+cell": {
     "cellMetadata": {},
     "inputWidgets": {},
     "nuid": "85b15fcb-cce4-4ede-b8ad-a12f60aecda3",
     "showTitle": false,
     "title": ""
    }
   },
   "source": [
    "\n",
    "# Using Ragas for evaluating Retrieval Augmented Generation Chains on Databricks\n",
    "\n",
    "Note: Validated with Databricks runtimes: 14.3 ML LTS and 13.3 ML LTS\n",
    "\n",
    "## Introduction\n",
    "\n",
    "Ragas is a framework that helps you evaluate your Retrieval Augmented Generation (RAG) pipelines. RAG denotes a class of LLM applications that use external data to augment the LLM’s context. There are existing tools and frameworks that help you build these pipelines but evaluating it and quantifying your pipeline performance can be hard. This is where Ragas (RAG Assessment) comes in.\n",
    "\n",
    "## Key Features\n",
    "\n",
    "- **Dataset Generation**: Ragas allows for the creation of diverse and comprehensive datasets that can be used to test the performance of RAG models.\n",
    "- **Customizable**: Users can tailor the datasets to include specific types of queries and documents, ensuring that the testing scenarios are relevant to their use cases.\n",
    "- **Integration with Databricks**: Ragas can be seamlessly integrated with Databricks, enabling users to leverage the powerful data processing and machine learning capabilities of the platform.\n",
    "\n",
    "## Benefits\n",
    "\n",
    "- **Improved Model Performance**: By using well-constructed testing datasets, users can identify weaknesses in their RAG models and make necessary adjustments to improve performance.\n",
    "- **Efficiency**: Automating the dataset generation process saves time and resources, allowing data scientists to focus on model development and optimization.\n",
    "- **Scalability**: Ragas can handle large volumes of data, making it suitable for enterprise-level applications."
   ]
  },
  {
   "cell_type": "code",
   "execution_count": 0,
   "metadata": {
    "application/vnd.databricks.v1+cell": {
     "cellMetadata": {
      "byteLimit": 2048000,
      "rowLimit": 10000
     },
     "inputWidgets": {},
     "nuid": "055fc91a-1149-49b1-9a49-8b44b31b964f",
     "showTitle": false,
     "title": ""
    }
   },
   "outputs": [],
   "source": []
  },
  {
   "cell_type": "code",
   "execution_count": 0,
   "metadata": {
    "application/vnd.databricks.v1+cell": {
     "cellMetadata": {
      "byteLimit": 2048000,
      "rowLimit": 10000
     },
     "inputWidgets": {},
     "nuid": "e599fa12-1f23-4b50-88c8-a0f56e7346be",
     "showTitle": false,
     "title": ""
    }
   },
   "outputs": [],
   "source": [
    "%pip install langchain langchain_community ragas databricks-vectorsearch llama_index"
   ]
  },
  {
   "cell_type": "code",
   "execution_count": 0,
   "metadata": {
    "application/vnd.databricks.v1+cell": {
     "cellMetadata": {
      "byteLimit": 2048000,
      "rowLimit": 10000
     },
     "inputWidgets": {},
     "nuid": "b38b8ff6-8e52-4439-8668-d34304588362",
     "showTitle": false,
     "title": ""
    }
   },
   "outputs": [],
   "source": [
    "%pip show langchain langchain_community databricks-vectorsearch"
   ]
  },
  {
   "cell_type": "code",
   "execution_count": 0,
   "metadata": {
    "application/vnd.databricks.v1+cell": {
     "cellMetadata": {
      "byteLimit": 2048000,
      "rowLimit": 10000
     },
     "inputWidgets": {},
     "nuid": "edbb4ed8-a4b2-45fb-b5b5-94e552a7c495",
     "showTitle": false,
     "title": ""
    }
   },
   "outputs": [],
   "source": [
    "dbutils.library.restartPython()"
   ]
  },
  {
   "cell_type": "code",
   "execution_count": 0,
   "metadata": {
    "application/vnd.databricks.v1+cell": {
     "cellMetadata": {
      "byteLimit": 2048000,
      "rowLimit": 10000
     },
     "inputWidgets": {},
     "nuid": "c462627b-cc61-4285-9668-8e7ca57b3a66",
     "showTitle": false,
     "title": ""
    }
   },
   "outputs": [],
   "source": [
    "# import subprocess\n",
    "# subprocess.run([\"python\", \"-c\", \"import dbutils; dbutils.library.restartPython()\"])"
   ]
  },
  {
   "cell_type": "code",
   "execution_count": 0,
   "metadata": {
    "application/vnd.databricks.v1+cell": {
     "cellMetadata": {
      "byteLimit": 2048000,
      "rowLimit": 10000
     },
     "inputWidgets": {},
     "nuid": "02269bad-9ce5-4494-9c06-58a9304608c6",
     "showTitle": false,
     "title": ""
    }
   },
   "outputs": [],
   "source": [
    "from databricks.vector_search.client import VectorSearchClient\n",
    "\n",
    "vsc = VectorSearchClient()"
   ]
  },
  {
   "cell_type": "code",
   "execution_count": 0,
   "metadata": {
    "application/vnd.databricks.v1+cell": {
     "cellMetadata": {
      "byteLimit": 2048000,
      "rowLimit": 10000
     },
     "inputWidgets": {},
     "nuid": "f94e897b-0f96-4129-9135-b35ddb535db5",
     "showTitle": false,
     "title": ""
    }
   },
   "outputs": [],
   "source": [
    "%run \"../.././Tools/helpers\""
   ]
  },
  {
   "cell_type": "markdown",
   "metadata": {
    "application/vnd.databricks.v1+cell": {
     "cellMetadata": {},
     "inputWidgets": {},
     "nuid": "78d1ec57-27fe-4a08-ada3-86836be7a48e",
     "showTitle": false,
     "title": ""
    }
   },
   "source": [
    "Update the following variables with your resource names:\n",
    "- vector_search_endpoint_name\n",
    "- vector_index_name\n",
    "- uc_save_path (catalog.schema)"
   ]
  },
  {
   "cell_type": "code",
   "execution_count": 0,
   "metadata": {
    "application/vnd.databricks.v1+cell": {
     "cellMetadata": {
      "byteLimit": 2048000,
      "rowLimit": 10000
     },
     "inputWidgets": {},
     "nuid": "def82e77-4cff-4f1c-ad8c-5e23780dc00f",
     "showTitle": true,
     "title": "UPDATE THESE VARIABLES"
    }
   },
   "outputs": [],
   "source": [
    "vector_search_endpoint_name = {vector_search_endpoint_name}\n",
    "vector_index_name = {vector_index_name}\n",
    "uc_save_path = {catalog.schema}\n",
    "embeddings_model = \"databricks-gte-large-en\"\n",
    "llm_model = \"databricks-meta-llama-3-1-70b-instruct\""
   ]
  },
  {
   "cell_type": "code",
   "execution_count": 0,
   "metadata": {
    "application/vnd.databricks.v1+cell": {
     "cellMetadata": {
      "byteLimit": 2048000,
      "rowLimit": 10000
     },
     "collapsed": true,
     "inputWidgets": {},
     "nuid": "50204a13-1822-44cb-b0aa-c9f4e3d69f36",
     "showTitle": false,
     "title": ""
    }
   },
   "outputs": [],
   "source": [
    "import mlflow\n",
    "\n",
    "mlflow.autolog(disable=True)"
   ]
  },
  {
   "cell_type": "code",
   "execution_count": 0,
   "metadata": {
    "application/vnd.databricks.v1+cell": {
     "cellMetadata": {
      "byteLimit": 2048000,
      "rowLimit": 10000
     },
     "inputWidgets": {},
     "nuid": "0cc83d6d-f8b1-4cb3-81ff-538b9dd24b31",
     "showTitle": false,
     "title": ""
    }
   },
   "outputs": [],
   "source": [
    "def display_dataset(ds):\n",
    "  ds_pd = ds.to_pandas()\n",
    "  ds_df = spark.createDataFrame(ds_pd)\n",
    "  display(ds_df)"
   ]
  },
  {
   "cell_type": "markdown",
   "metadata": {
    "application/vnd.databricks.v1+cell": {
     "cellMetadata": {
      "byteLimit": 2048000,
      "rowLimit": 10000
     },
     "inputWidgets": {},
     "nuid": "47b05775-9099-4282-9d29-0dab0df3cfbd",
     "showTitle": false,
     "title": ""
    }
   },
   "source": [
    "# Get the documents using langchain"
   ]
  },
  {
   "cell_type": "code",
   "execution_count": 0,
   "metadata": {
    "application/vnd.databricks.v1+cell": {
     "cellMetadata": {
      "byteLimit": 2048000,
      "rowLimit": 10000
     },
     "inputWidgets": {},
     "nuid": "e0371120-5ccf-4c9c-8dbe-77491d857621",
     "showTitle": false,
     "title": ""
    }
   },
   "outputs": [],
   "source": [
    "from pyspark.sql.types import StructType, StructField, StringType, LongType\n",
    "from pyspark.sql.functions import col, monotonically_increasing_id\n",
    "from langchain.text_splitter import RecursiveCharacterTextSplitter, CharacterTextSplitter\n",
    "from langchain_community.document_loaders import WebBaseLoader\n",
    "\n",
    "schema = StructType([StructField('page_content', StringType(), True), StructField('type', StringType(), True), StructField('id', LongType(), True)])\n",
    "\n",
    "loader = WebBaseLoader(\"https://mlflow.org/docs/latest/index.html\")\n",
    "documents = loader.load()\n",
    "text_splitter = CharacterTextSplitter(chunk_size=1000, chunk_overlap=0)\n",
    "docs = text_splitter.split_documents(documents)\n",
    "\n",
    "df = spark.createDataFrame(docs, schema).drop(col(\"metadata\")).withColumn(\"id\", monotonically_increasing_id())\n",
    "\n",
    "display(df)\n",
    "\n",
    "try:\n",
    "  df.write.option(\"mergeSchema\", \"true\").mode(\"overwrite\").format(\"delta\").saveAsTable(f\"{uc_save_path}.raw_mlflow_docs\")\n",
    "  print(f\"Successfully saved table: {uc_save_path}.raw_mlflow_docs!\")\n",
    "except:\n",
    "  print(f\"Failed to write table: {uc_save_path}.raw_mlflow_docs.\")"
   ]
  },
  {
   "cell_type": "code",
   "execution_count": 0,
   "metadata": {
    "application/vnd.databricks.v1+cell": {
     "cellMetadata": {
      "byteLimit": 2048000,
      "rowLimit": 10000
     },
     "inputWidgets": {},
     "nuid": "6f7ec30f-9a30-4335-8ca2-edfab42b6aea",
     "showTitle": false,
     "title": ""
    }
   },
   "outputs": [],
   "source": [
    "\n",
    "alter_table_cdf = f\"ALTER TABLE {uc_save_path}.raw_mlflow_docs SET TBLPROPERTIES ('delta.enableChangeDataFeed' = 'true')\"\n",
    " \n",
    "if(spark.sql(alter_table_cdf)):\n",
    "  print(f\"Table [{uc_save_path}.raw_mlflow_docs] updated successfully!\")"
   ]
  },
  {
   "cell_type": "markdown",
   "metadata": {
    "application/vnd.databricks.v1+cell": {
     "cellMetadata": {
      "byteLimit": 2048000,
      "rowLimit": 10000
     },
     "inputWidgets": {},
     "nuid": "1715d299-3a4d-41bc-956b-275dcaeded0f",
     "showTitle": false,
     "title": ""
    }
   },
   "source": [
    "# Set up LLM configs "
   ]
  },
  {
   "cell_type": "code",
   "execution_count": 0,
   "metadata": {
    "application/vnd.databricks.v1+cell": {
     "cellMetadata": {
      "byteLimit": 2048000,
      "rowLimit": 10000
     },
     "inputWidgets": {},
     "nuid": "2ff95cfa-471c-46a7-998c-acef63c52dd2",
     "showTitle": false,
     "title": ""
    }
   },
   "outputs": [],
   "source": [
    "from langchain_community.chat_models import ChatDatabricks\n",
    "from langchain_core.messages import HumanMessage\n",
    "from mlflow.deployments import get_deploy_client\n",
    "\n",
    "generator_llm = ChatDatabricks(\n",
    "    target_uri=\"databricks\",\n",
    "    endpoint= llm_model,\n",
    "    temperature=0.1,\n",
    ")"
   ]
  },
  {
   "cell_type": "code",
   "execution_count": 0,
   "metadata": {
    "application/vnd.databricks.v1+cell": {
     "cellMetadata": {
      "byteLimit": 2048000,
      "rowLimit": 10000
     },
     "inputWidgets": {},
     "nuid": "79a4071f-dd90-40d4-aa11-ed2dda164119",
     "showTitle": false,
     "title": ""
    }
   },
   "outputs": [],
   "source": [
    "critic_llm = ChatDatabricks(\n",
    "    target_uri=\"databricks\",\n",
    "    endpoint= llm_model,\n",
    "    temperature=0.1,\n",
    ")"
   ]
  },
  {
   "cell_type": "code",
   "execution_count": 0,
   "metadata": {
    "application/vnd.databricks.v1+cell": {
     "cellMetadata": {
      "byteLimit": 2048000,
      "rowLimit": 10000
     },
     "inputWidgets": {},
     "nuid": "5a20ee55-9fe7-431d-b2eb-54cd2597e98c",
     "showTitle": false,
     "title": ""
    }
   },
   "outputs": [],
   "source": [
    "from langchain_community.embeddings import DatabricksEmbeddings\n",
    "\n",
    "embeddings = DatabricksEmbeddings(endpoint=\"databricks-gte-large-en\")"
   ]
  },
  {
   "cell_type": "code",
   "execution_count": 0,
   "metadata": {
    "application/vnd.databricks.v1+cell": {
     "cellMetadata": {
      "byteLimit": 2048000,
      "rowLimit": 10000
     },
     "inputWidgets": {},
     "nuid": "51eb12d5-aebf-4585-bfa5-62e0c3ff393a",
     "showTitle": false,
     "title": ""
    }
   },
   "outputs": [],
   "source": [
    "from ragas.testset.generator import TestsetGenerator\n",
    "\n",
    "generator = TestsetGenerator.from_langchain(\n",
    "    generator_llm,\n",
    "    critic_llm,\n",
    "    embeddings\n",
    ")"
   ]
  },
  {
   "cell_type": "markdown",
   "metadata": {
    "application/vnd.databricks.v1+cell": {
     "cellMetadata": {
      "byteLimit": 2048000,
      "rowLimit": 10000
     },
     "inputWidgets": {},
     "nuid": "f14a71fd-a622-413d-9638-42d6ee9605f6",
     "showTitle": false,
     "title": ""
    }
   },
   "source": [
    "# Make the index for testing"
   ]
  },
  {
   "cell_type": "code",
   "execution_count": 0,
   "metadata": {
    "application/vnd.databricks.v1+cell": {
     "cellMetadata": {
      "byteLimit": 2048000,
      "rowLimit": 10000
     },
     "inputWidgets": {},
     "nuid": "408afd93-08ab-4bc5-b526-1fcbcc6eea8f",
     "showTitle": false,
     "title": ""
    }
   },
   "outputs": [],
   "source": [
    "from databricks.vector_search.client import VectorSearchClient\n",
    "\n",
    "vsc = VectorSearchClient()"
   ]
  },
  {
   "cell_type": "code",
   "execution_count": 0,
   "metadata": {
    "application/vnd.databricks.v1+cell": {
     "cellMetadata": {
      "byteLimit": 2048000,
      "rowLimit": 10000
     },
     "inputWidgets": {},
     "nuid": "564c3897-96f6-48f2-ab11-f2525126ce47",
     "showTitle": false,
     "title": ""
    }
   },
   "outputs": [],
   "source": [
    "create_vector_search_if_not_exists(vector_search_endpoint_name, vsc)"
   ]
  },
  {
   "cell_type": "code",
   "execution_count": 0,
   "metadata": {
    "application/vnd.databricks.v1+cell": {
     "cellMetadata": {
      "byteLimit": 2048000,
      "rowLimit": 10000
     },
     "inputWidgets": {},
     "nuid": "45a7fca1-a2fa-44e0-8a5a-cf711d37603a",
     "showTitle": false,
     "title": ""
    }
   },
   "outputs": [],
   "source": [
    "create_vector_index_if_not_exists(vector_search_endpoint_name, vector_index_name, uc_save_path, embeddings_model, vsc)"
   ]
  },
  {
   "cell_type": "code",
   "execution_count": 0,
   "metadata": {
    "application/vnd.databricks.v1+cell": {
     "cellMetadata": {
      "byteLimit": 2048000,
      "rowLimit": 10000
     },
     "inputWidgets": {},
     "nuid": "7c5ee2f7-3e8e-4e95-84af-dd9e2d85c8c6",
     "showTitle": false,
     "title": ""
    }
   },
   "outputs": [],
   "source": [
    "vs_index = vsc.get_index(endpoint_name= vector_search_endpoint_name, index_name= vector_index_name)\n",
    "\n",
    "vs_index.describe()"
   ]
  },
  {
   "cell_type": "markdown",
   "metadata": {
    "application/vnd.databricks.v1+cell": {
     "cellMetadata": {
      "byteLimit": 2048000,
      "rowLimit": 10000
     },
     "inputWidgets": {},
     "nuid": "31277d5f-ada4-4756-956b-dba926ee8140",
     "showTitle": false,
     "title": ""
    }
   },
   "source": [
    "# Build the QA Chain"
   ]
  },
  {
   "cell_type": "code",
   "execution_count": 0,
   "metadata": {
    "application/vnd.databricks.v1+cell": {
     "cellMetadata": {
      "byteLimit": 2048000,
      "rowLimit": 10000
     },
     "inputWidgets": {},
     "nuid": "33e38bea-ff61-47d8-b2f4-c45f2f33dcb6",
     "showTitle": false,
     "title": ""
    }
   },
   "outputs": [],
   "source": [
    "from langchain.vectorstores import DatabricksVectorSearch\n",
    "from langchain.embeddings import DatabricksEmbeddings\n",
    "\n",
    "\n",
    "def get_retriever(persist_dir: str = None):\n",
    "    vs_index = vsc.get_index(\n",
    "        endpoint_name= vector_search_endpoint_name,\n",
    "        index_name= vector_index_name\n",
    "    )\n",
    "    # Create the retriever\n",
    "    vectorstore = DatabricksVectorSearch(\n",
    "        vs_index, text_column=\"page_content\"\n",
    "    )\n",
    "    return vectorstore.as_retriever()\n",
    "\n",
    "# test our retriever\n",
    "retriever = get_retriever()"
   ]
  },
  {
   "cell_type": "code",
   "execution_count": 0,
   "metadata": {
    "application/vnd.databricks.v1+cell": {
     "cellMetadata": {
      "byteLimit": 2048000,
      "rowLimit": 10000
     },
     "inputWidgets": {},
     "nuid": "17dbed6b-cf26-420d-93ad-c8b8ab2ebc3f",
     "showTitle": false,
     "title": ""
    }
   },
   "outputs": [],
   "source": [
    "# If running a Databricks notebook attached to an interactive cluster in \"single user\"\n",
    "# or \"no isolation shared\" mode, you only need to specify the endpoint name to create\n",
    "# a `Databricks` instance to query a serving endpoint in the same workspace.\n",
    "\n",
    "# Otherwise, you can manually specify the Databricks workspace hostname and personal access token\n",
    "# or set `DATABRICKS_HOST` and `DATABRICKS_TOKEN` environment variables, respectively.\n",
    "# You can set those environment variables based on the notebook context if run on Databricks\n",
    "\n",
    "import os\n",
    "from langchain_community.chat_models.databricks import ChatDatabricks\n",
    "from langchain_core.messages import HumanMessage, SystemMessage\n",
    "\n",
    "# Need this for job run: \n",
    "# os.environ['DATABRICKS_URL'] = dbutils.notebook.entry_point.getDbutils().notebook().getContext().apiUrl().getOrElse(None) \n",
    "# os.environ['DATABRICKS_TOKEN'] = dbutils.notebook.entry_point.getDbutils().notebook().getContext().apiToken().getOrElse(None)\n",
    "\n",
    "def transform_input(**request):\n",
    "  request[\"messages\"] = [\n",
    "    {\n",
    "      \"role\": \"user\",\n",
    "      \"content\": request[\"prompt\"]\n",
    "    }\n",
    "  ]\n",
    "  del request[\"prompt\"]\n",
    "  return request\n",
    "\n",
    "# databricks-meta-llama-3-70b-instruct or databricks\n",
    "llm = ChatDatabricks(endpoint=llm_model, transform_input_fn=transform_input, extra_params={\"temperature\": 0.1, \"max_tokens\":512})\n",
    "\n",
    "#if you want answers to generate faster, set the number of tokens above to a smaller number\n",
    "prompt = \"What is mlflow?\"\n",
    "\n",
    "output = llm.invoke(prompt)"
   ]
  },
  {
   "cell_type": "code",
   "execution_count": 0,
   "metadata": {
    "application/vnd.databricks.v1+cell": {
     "cellMetadata": {
      "byteLimit": 2048000,
      "rowLimit": 10000
     },
     "inputWidgets": {},
     "nuid": "bf90d1ee-79e3-4716-b22a-454817bee02e",
     "showTitle": false,
     "title": ""
    }
   },
   "outputs": [],
   "source": [
    "from langchain import PromptTemplate\n",
    "from langchain.chains import RetrievalQA\n",
    "\n",
    "def build_qa_chain():\n",
    "  \n",
    "  template = \"\"\"You are an expert in machine learning engineering and machine learning operations. \n",
    "\n",
    "  ### Instruction:\n",
    "  Use only information in the following paragraphs to answer the question. Explain the answer with reference to these paragraphs. If you don't know, say that you do not know.\n",
    "\n",
    "  {context}\n",
    "  \n",
    "  {question}\n",
    "\n",
    "  ### Response:\n",
    "  \"\"\"\n",
    "  prompt = PromptTemplate(input_variables=['context', 'question'], template=template)\n",
    "\n",
    "  qa_chain = RetrievalQA.from_chain_type(\n",
    "    llm=llm,\n",
    "    chain_type=\"stuff\",\n",
    "    retriever= retriever,\n",
    "    return_source_documents=True,\n",
    "    chain_type_kwargs={\n",
    "        \"verbose\": False,\n",
    "        \"prompt\": prompt\n",
    "    }\n",
    "  )\n",
    "  \n",
    "  # Set verbose=True to see the full prompt:\n",
    "  return qa_chain"
   ]
  },
  {
   "cell_type": "code",
   "execution_count": 0,
   "metadata": {
    "application/vnd.databricks.v1+cell": {
     "cellMetadata": {
      "byteLimit": 2048000,
      "rowLimit": 10000
     },
     "inputWidgets": {},
     "nuid": "f516238f-7d68-4cab-9453-a378e5b5f1cb",
     "showTitle": false,
     "title": ""
    }
   },
   "outputs": [],
   "source": [
    "qa_chain = build_qa_chain()"
   ]
  },
  {
   "cell_type": "code",
   "execution_count": 0,
   "metadata": {
    "application/vnd.databricks.v1+cell": {
     "cellMetadata": {
      "byteLimit": 2048000,
      "rowLimit": 10000
     },
     "inputWidgets": {},
     "nuid": "a12a8c12-823a-4d04-8746-fbed0c6ea9fc",
     "showTitle": false,
     "title": ""
    }
   },
   "outputs": [],
   "source": [
    "from mlflow.deployments import set_deployments_target\n",
    "\n",
    "set_deployments_target(\"databricks\")"
   ]
  },
  {
   "cell_type": "code",
   "execution_count": 0,
   "metadata": {
    "application/vnd.databricks.v1+cell": {
     "cellMetadata": {
      "byteLimit": 2048000,
      "rowLimit": 10000
     },
     "inputWidgets": {},
     "nuid": "26aaffb3-c602-47f2-884d-d5f4f63fbaf4",
     "showTitle": false,
     "title": ""
    }
   },
   "outputs": [],
   "source": [
    "question = \"What are the different components of MLflow related to Model Management?\"\n",
    "result = qa_chain.invoke({\"query\": question})"
   ]
  },
  {
   "cell_type": "code",
   "execution_count": 0,
   "metadata": {
    "application/vnd.databricks.v1+cell": {
     "cellMetadata": {
      "byteLimit": 2048000,
      "rowLimit": 10000
     },
     "inputWidgets": {},
     "nuid": "015dd872-9535-48d0-b852-38bb00bd76d0",
     "showTitle": false,
     "title": ""
    }
   },
   "outputs": [],
   "source": [
    "# Check the result of the query\n",
    "display(result[\"result\"])"
   ]
  },
  {
   "cell_type": "code",
   "execution_count": 0,
   "metadata": {
    "application/vnd.databricks.v1+cell": {
     "cellMetadata": {
      "byteLimit": 2048000,
      "rowLimit": 10000
     },
     "inputWidgets": {},
     "nuid": "e5c2cfe7-d229-4f15-b0ba-5aae1e0a9c9f",
     "showTitle": false,
     "title": ""
    }
   },
   "outputs": [],
   "source": [
    "# Check the source document from where we \n",
    "for item in result[\"source_documents\"]:\n",
    "  print(item.page_content)"
   ]
  },
  {
   "cell_type": "markdown",
   "metadata": {
    "application/vnd.databricks.v1+cell": {
     "cellMetadata": {
      "byteLimit": 2048000,
      "rowLimit": 10000
     },
     "inputWidgets": {},
     "nuid": "4d9db427-01ce-434d-86e9-6b3e6d9c3bd7",
     "showTitle": false,
     "title": ""
    }
   },
   "source": [
    "# Create the dataset with Ragas"
   ]
  },
  {
   "cell_type": "code",
   "execution_count": 0,
   "metadata": {
    "application/vnd.databricks.v1+cell": {
     "cellMetadata": {
      "byteLimit": 2048000,
      "rowLimit": 10000
     },
     "inputWidgets": {},
     "nuid": "85c0ecde-87bb-4aac-835e-3ed5cf13f12f",
     "showTitle": false,
     "title": ""
    }
   },
   "outputs": [],
   "source": [
    "from ragas.testset.evolutions import simple, reasoning, multi_context\n",
    "\n",
    "mlflow_dataset = generator.generate_with_langchain_docs(docs, test_size=12, distributions={simple: 0.5, reasoning: 0.25, multi_context: 0.25})\n"
   ]
  },
  {
   "cell_type": "code",
   "execution_count": 0,
   "metadata": {
    "application/vnd.databricks.v1+cell": {
     "cellMetadata": {
      "byteLimit": 2048000,
      "rowLimit": 10000
     },
     "inputWidgets": {},
     "nuid": "400050ff-2b38-4b3d-a95d-04db91c97838",
     "showTitle": false,
     "title": ""
    }
   },
   "outputs": [],
   "source": [
    "display_dataset(mlflow_dataset)"
   ]
  },
  {
   "cell_type": "code",
   "execution_count": 0,
   "metadata": {
    "application/vnd.databricks.v1+cell": {
     "cellMetadata": {
      "byteLimit": 2048000,
      "rowLimit": 10000
     },
     "inputWidgets": {},
     "nuid": "04b3fd94-981f-4a8e-8fe3-588b2542d864",
     "showTitle": false,
     "title": ""
    }
   },
   "outputs": [],
   "source": [
    "mlflow_dataset_pd = mlflow_dataset.to_pandas()"
   ]
  },
  {
   "cell_type": "markdown",
   "metadata": {
    "application/vnd.databricks.v1+cell": {
     "cellMetadata": {
      "byteLimit": 2048000,
      "rowLimit": 10000
     },
     "inputWidgets": {},
     "nuid": "7881bd10-e763-4023-8a26-35e618a09d9f",
     "showTitle": false,
     "title": ""
    }
   },
   "source": [
    "# Create Evaluation Dataset"
   ]
  },
  {
   "cell_type": "code",
   "execution_count": 0,
   "metadata": {
    "application/vnd.databricks.v1+cell": {
     "cellMetadata": {
      "byteLimit": 2048000,
      "rowLimit": 10000
     },
     "inputWidgets": {},
     "nuid": "2e9c8dcd-7acb-495a-87a7-4749eec0978d",
     "showTitle": false,
     "title": ""
    }
   },
   "outputs": [],
   "source": [
    "def get_responses(qa_chain, questions, ground_truth):\n",
    "  from datasets import Dataset\n",
    "\n",
    "  test_answers = []\n",
    "  test_contexts = []\n",
    "\n",
    "  for item in questions:\n",
    "    temp = []\n",
    "    result = qa_chain.invoke(item)\n",
    "    test_answers.append(result[\"result\"])\n",
    "    for doc in result[\"source_documents\"]:\n",
    "      temp.append(doc.page_content)\n",
    "    test_contexts.append(temp)\n",
    "\n",
    "\n",
    "  dataset_dict = {\n",
    "        \"question\": questions,\n",
    "        \"answer\": test_answers,\n",
    "        \"contexts\": test_contexts,\n",
    "        \"ground_truth\": ground_truth,\n",
    "  }\n",
    "\n",
    "  result_ds = Dataset.from_dict(dataset_dict)\n",
    "\n",
    "  return result_ds"
   ]
  },
  {
   "cell_type": "code",
   "execution_count": 0,
   "metadata": {
    "application/vnd.databricks.v1+cell": {
     "cellMetadata": {
      "byteLimit": 2048000,
      "rowLimit": 10000
     },
     "inputWidgets": {},
     "nuid": "3d7c0053-74f9-4d29-9821-b06e49fabdfe",
     "showTitle": false,
     "title": ""
    }
   },
   "outputs": [],
   "source": [
    "result_ds = get_responses(qa_chain, questions=mlflow_dataset_pd['question'].values.tolist(), ground_truth=mlflow_dataset_pd['ground_truth'].values.tolist())"
   ]
  },
  {
   "cell_type": "code",
   "execution_count": 0,
   "metadata": {
    "application/vnd.databricks.v1+cell": {
     "cellMetadata": {
      "byteLimit": 2048000,
      "rowLimit": 10000
     },
     "inputWidgets": {},
     "nuid": "aa54f57b-5811-4826-9a5d-58c844fb35ba",
     "showTitle": false,
     "title": ""
    }
   },
   "outputs": [],
   "source": [
    "display_dataset(result_ds)"
   ]
  },
  {
   "cell_type": "markdown",
   "metadata": {
    "application/vnd.databricks.v1+cell": {
     "cellMetadata": {
      "byteLimit": 2048000,
      "rowLimit": 10000
     },
     "inputWidgets": {},
     "nuid": "2489742f-f2c9-4588-849f-c9d7b021b55c",
     "showTitle": false,
     "title": ""
    }
   },
   "source": [
    "\n",
    "**Answer Relevancy**: \n",
    "- Answer relevancy measures how well the generated response addresses the user's query or question. It assesses whether the response is on-topic, relevant, and useful. A high answer relevancy score indicates that the model has successfully understood the user's intent and provided a response that is pertinent to the conversation. This metric is often evaluated using human judgments, where annotators rate the response as relevant or not.  \n",
    "\n",
    "**Faithfulness**: \n",
    "- Faithfulness measures how accurately the generated response reflects the input context or prompt. It assesses whether the model has preserved the essential information, tone, and intent of the original input. A high faithfulness score indicates that the model has successfully captured the essence of the input and generated a response that is consistent with it. This metric is often evaluated using metrics such as ROUGE (Recall-Oriented Understudy for Gisting Evaluation) or METEOR (Metric for Evaluation of Translation with Explicit ORdering).  \n",
    "\n",
    "**Context Recall**: \n",
    "- Context recall measures the proportion of relevant context information that is retained in the generated response. It assesses how well the model recalls specific details, entities, or events mentioned in the input context. A high context recall score indicates that the model has successfully retained important information from the input context and incorporated it into the response. This metric is often evaluated using metrics such as recall@k, which measures the proportion of relevant context information recalled in the top-k responses.  \n",
    "\n",
    "**Context Precision**: \n",
    "- Context precision measures the proportion of relevant context information that is accurately represented in the generated response. It assesses how well the model avoids introducing extraneous or incorrect information that is not present in the input context. A high context precision score indicates that the model has successfully avoided \"hallucinating\" or introducing irrelevant information and has stuck to the facts present in the input context. This metric is often evaluated using metrics such as precision@k, which measures the proportion of accurate context information in the top-k responses."
   ]
  },
  {
   "cell_type": "code",
   "execution_count": 0,
   "metadata": {
    "application/vnd.databricks.v1+cell": {
     "cellMetadata": {
      "byteLimit": 2048000,
      "rowLimit": 10000
     },
     "inputWidgets": {},
     "nuid": "ceb0dcae-cbbc-483e-8b3d-3822487e1b57",
     "showTitle": false,
     "title": ""
    }
   },
   "outputs": [],
   "source": [
    "from datasets import Dataset\n",
    "from ragas import evaluate\n",
    "from ragas.metrics import (\n",
    "    faithfulness,\n",
    "    answer_relevancy,\n",
    "    answer_correctness,\n",
    "    context_precision, \n",
    "    context_recall,\n",
    ")\n",
    "\n",
    "metrics = [\n",
    "    faithfulness,\n",
    "    answer_relevancy,\n",
    "    answer_correctness,\n",
    "    context_precision, \n",
    "    context_recall,\n",
    "]"
   ]
  },
  {
   "cell_type": "code",
   "execution_count": 0,
   "metadata": {
    "application/vnd.databricks.v1+cell": {
     "cellMetadata": {
      "byteLimit": 2048000,
      "rowLimit": 10000
     },
     "inputWidgets": {},
     "nuid": "c8dd17a1-bc9a-451e-bf1f-16a2b83d7fb7",
     "showTitle": true,
     "title": "Extend timeouts for additional metrics to run"
    }
   },
   "outputs": [],
   "source": [
    "from ragas import RunConfig\n",
    "\n",
    "run_config = RunConfig()\n",
    "\n",
    "run_config.timeout = 360\n",
    "run_config.wait = 360\n",
    "run_config.thread_timeout = 360"
   ]
  },
  {
   "cell_type": "code",
   "execution_count": 0,
   "metadata": {
    "application/vnd.databricks.v1+cell": {
     "cellMetadata": {
      "byteLimit": 2048000,
      "rowLimit": 10000
     },
     "inputWidgets": {},
     "nuid": "b6adc6f0-ac0e-4b46-8d4d-7386291a3f46",
     "showTitle": false,
     "title": ""
    }
   },
   "outputs": [],
   "source": [
    "run_config"
   ]
  },
  {
   "cell_type": "code",
   "execution_count": 0,
   "metadata": {
    "application/vnd.databricks.v1+cell": {
     "cellMetadata": {
      "byteLimit": 2048000,
      "rowLimit": 10000
     },
     "inputWidgets": {},
     "nuid": "2fc456b3-9dff-42a8-afcc-497ca8c54d24",
     "showTitle": false,
     "title": ""
    }
   },
   "outputs": [],
   "source": [
    "from ragas import evaluate\n",
    "\n",
    "result = evaluate(\n",
    "    result_ds,\n",
    "    metrics=metrics,\n",
    "    llm = critic_llm, \n",
    "    embeddings = embeddings, \n",
    "    run_config = run_config\n",
    ")\n"
   ]
  },
  {
   "cell_type": "code",
   "execution_count": 0,
   "metadata": {
    "application/vnd.databricks.v1+cell": {
     "cellMetadata": {
      "byteLimit": 2048000,
      "rowLimit": 10000
     },
     "inputWidgets": {},
     "nuid": "492c5beb-d74c-4f53-8e60-cab05ff83647",
     "showTitle": false,
     "title": ""
    }
   },
   "outputs": [
    {
     "output_type": "display_data",
     "data": {
      "text/plain": [
       "Databricks visualization. Run in Databricks to view."
      ]
     },
     "metadata": {
      "application/vnd.databricks.v1.subcommand+json": {
       "baseErrorDetails": null,
       "bindings": {},
       "collapsed": false,
       "command": "%python\n__backend_agg_display_orig = display\n__backend_agg_dfs = []\ndef __backend_agg_display_new(df):\n    __backend_agg_df_modules = [\"pandas.core.frame\", \"databricks.koalas.frame\", \"pyspark.sql.dataframe\", \"pyspark.pandas.frame\", \"pyspark.sql.connect.dataframe\"]\n    if (type(df).__module__ in __backend_agg_df_modules and type(df).__name__ == 'DataFrame') or isinstance(df, list):\n        __backend_agg_dfs.append(df)\n\ndisplay = __backend_agg_display_new\n\ndef __backend_agg_user_code_fn():\n    import base64\n    exec(base64.standard_b64decode(\"ZGlzcGxheV9kYXRhc2V0KHJlc3VsdCk=\").decode())\n\ntry:\n    # run user code\n    __backend_agg_user_code_fn()\n\n    #reset display function\n    display = __backend_agg_display_orig\n\n    if len(__backend_agg_dfs) > 0:\n        # create a temp view\n        if type(__backend_agg_dfs[0]).__module__ == \"databricks.koalas.frame\":\n            # koalas dataframe\n            __backend_agg_dfs[0].to_spark().createOrReplaceTempView(\"DatabricksView644f284\")\n        elif type(__backend_agg_dfs[0]).__module__ == \"pandas.core.frame\" or isinstance(__backend_agg_dfs[0], list):\n            # pandas dataframe\n            spark.createDataFrame(__backend_agg_dfs[0]).createOrReplaceTempView(\"DatabricksView644f284\")\n        else:\n            __backend_agg_dfs[0].createOrReplaceTempView(\"DatabricksView644f284\")\n        #run backend agg\n        display(spark.sql(\"\"\"WITH q AS (select * from DatabricksView644f284) SELECT `question`,SUM(`faithfulness`) `column_237b71672`,SUM(`answer_relevancy`) `column_237b71675`,SUM(`answer_correctness`) `column_237b71678`,SUM(`context_precision`) `column_237b716711`,SUM(`context_recall`) `column_237b716714` FROM q GROUP BY `question`\"\"\"))\n    else:\n        displayHTML(\"dataframe no longer exists. If you're using dataframe.display(), use display(dataframe) instead.\")\n\n\nfinally:\n    spark.sql(\"drop view if exists DatabricksView644f284\")\n    display = __backend_agg_display_orig\n    del __backend_agg_display_new\n    del __backend_agg_display_orig\n    del __backend_agg_dfs\n    del __backend_agg_user_code_fn\n\n",
       "commandTitle": "Visualization 1",
       "commandType": "auto",
       "commandVersion": 0,
       "commentThread": [],
       "commentsVisible": false,
       "contentSha256Hex": null,
       "customPlotOptions": {
        "redashChart": [
         {
          "key": "type",
          "value": "CHART"
         },
         {
          "key": "options",
          "value": {
           "alignYAxesAtZero": true,
           "coefficient": 1,
           "columnConfigurationMap": {
            "x": {
             "column": "question",
             "id": "column_237b716719"
            },
            "y": [
             {
              "column": "faithfulness",
              "id": "column_237b71672",
              "transform": "SUM"
             },
             {
              "column": "answer_relevancy",
              "id": "column_237b71675",
              "transform": "SUM"
             },
             {
              "column": "answer_correctness",
              "id": "column_237b71678",
              "transform": "SUM"
             },
             {
              "column": "context_precision",
              "id": "column_237b716711",
              "transform": "SUM"
             },
             {
              "column": "context_recall",
              "id": "column_237b716714",
              "transform": "SUM"
             }
            ]
           },
           "dateTimeFormat": "DD/MM/YYYY HH:mm",
           "direction": {
            "type": "counterclockwise"
           },
           "error_y": {
            "type": "data",
            "visible": true
           },
           "globalSeriesType": "column",
           "isAggregationOn": true,
           "legend": {
            "traceorder": "normal"
           },
           "missingValuesAsZero": true,
           "numberFormat": "0,0.[00000]",
           "percentFormat": "0[.]00%",
           "series": {
            "error_y": {
             "type": "data",
             "visible": true
            },
            "percentValues": false,
            "stacking": null
           },
           "seriesOptions": {
            "column_237b716711": {
             "name": "precision",
             "type": "column",
             "yAxis": 0
            },
            "column_237b716714": {
             "name": "recall",
             "type": "column",
             "yAxis": 0
            },
            "column_237b716717": {
             "type": "column",
             "yAxis": 0
            },
            "column_237b71672": {
             "name": "faithfulness",
             "type": "column",
             "yAxis": 0
            },
            "column_237b71675": {
             "name": "relevancy",
             "type": "column",
             "yAxis": 0
            },
            "column_237b71678": {
             "name": "correctness",
             "type": "column",
             "yAxis": 0
            }
           },
           "showDataLabels": false,
           "sizemode": "diameter",
           "sortX": true,
           "sortY": true,
           "swappedAxes": false,
           "textFormat": "",
           "useAggregationsUi": true,
           "valuesOptions": {},
           "version": 2,
           "xAxis": {
            "labels": {
             "enabled": true
            },
            "type": "-"
           },
           "yAxis": [
            {
             "type": "-"
            },
            {
             "opposite": true,
             "type": "-"
            }
           ]
          }
         }
        ]
       },
       "datasetPreviewNameToCmdIdMap": {},
       "diffDeletes": [],
       "diffInserts": [],
       "displayType": "redashChart",
       "error": null,
       "errorDetails": null,
       "errorSummary": null,
       "errorTraceType": null,
       "finishTime": 0,
       "globalVars": {},
       "guid": "",
       "height": "auto",
       "hideCommandCode": false,
       "hideCommandResult": false,
       "iPythonMetadata": null,
       "inputWidgets": {},
       "isLockedInExamMode": false,
       "latestUser": "a user",
       "latestUserId": null,
       "listResultMetadata": null,
       "metadata": {
        "byteLimit": 2048000,
        "rowLimit": 10000
       },
       "nuid": "9e2e0ec9-b9de-435a-a2d0-69a07895e4a5",
       "origId": 0,
       "parentHierarchy": [],
       "pivotAggregation": null,
       "pivotColumns": null,
       "position": 3.75,
       "resultDbfsErrorMessage": null,
       "resultDbfsStatus": "INLINED_IN_TREE",
       "results": null,
       "showCommandTitle": false,
       "startTime": 0,
       "state": "input",
       "streamStates": {},
       "subcommandOptions": {
        "queryPlan": {
         "groups": [
          {
           "column": "question",
           "type": "column"
          }
         ],
         "selects": [
          {
           "column": "question",
           "type": "column"
          },
          {
           "alias": "column_237b71672",
           "args": [
            {
             "column": "faithfulness",
             "type": "column"
            }
           ],
           "function": "SUM",
           "type": "function"
          },
          {
           "alias": "column_237b71675",
           "args": [
            {
             "column": "answer_relevancy",
             "type": "column"
            }
           ],
           "function": "SUM",
           "type": "function"
          },
          {
           "alias": "column_237b71678",
           "args": [
            {
             "column": "answer_correctness",
             "type": "column"
            }
           ],
           "function": "SUM",
           "type": "function"
          },
          {
           "alias": "column_237b716711",
           "args": [
            {
             "column": "context_precision",
             "type": "column"
            }
           ],
           "function": "SUM",
           "type": "function"
          },
          {
           "alias": "column_237b716714",
           "args": [
            {
             "column": "context_recall",
             "type": "column"
            }
           ],
           "function": "SUM",
           "type": "function"
          }
         ]
        }
       },
       "submitTime": 0,
       "subtype": "tableResultSubCmd.visualization",
       "tableResultIndex": 0,
       "useConsistentColors": false,
       "version": "CommandV1",
       "width": "auto",
       "workflows": null,
       "xColumns": null,
       "yColumns": null
      }
     },
     "output_type": "display_data"
    }
   ],
   "source": [
    "display_dataset(result)"
   ]
  }
 ],
 "metadata": {
  "application/vnd.databricks.v1+notebook": {
   "dashboards": [],
   "environmentMetadata": {
    "base_environment": "",
    "client": "1"
   },
   "language": "python",
   "notebookMetadata": {
    "pythonIndentUnit": 2
   },
   "notebookName": "02-mlflow_docs_evaluate_existing",
   "widgets": {}
  }
 },
 "nbformat": 4,
 "nbformat_minor": 0
}
